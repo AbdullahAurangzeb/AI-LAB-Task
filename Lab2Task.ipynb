{
  "nbformat": 4,
  "nbformat_minor": 0,
  "metadata": {
    "colab": {
      "provenance": [],
      "toc_visible": true
    },
    "kernelspec": {
      "name": "python3",
      "display_name": "Python 3"
    },
    "language_info": {
      "name": "python"
    }
  },
  "cells": [
    {
      "cell_type": "code",
      "execution_count": null,
      "metadata": {
        "id": "xZizSEOyDRaz"
      },
      "outputs": [],
      "source": []
    },
    {
      "cell_type": "markdown",
      "source": [
        "# Matplotlib"
      ],
      "metadata": {
        "id": "4W6kH4ejEN3P"
      }
    },
    {
      "cell_type": "markdown",
      "source": [
        "# Numpy"
      ],
      "metadata": {
        "id": "fHXAEMjrEWqf"
      }
    },
    {
      "cell_type": "markdown",
      "source": [
        "# List"
      ],
      "metadata": {
        "id": "whK_lCttEgAl"
      }
    },
    {
      "cell_type": "code",
      "source": [
        "my_list = [1,2,3,4,5,6,7,8,9,10]\n",
        "print(my_list)\n",
        "\n",
        "list_sum = sum(my_list)\n",
        "list_max = max(my_list)\n",
        "list_min = min(my_list)\n",
        "my_list.append(11)\n",
        "print(my_list)\n",
        "\n",
        "my_list.remove(11)\n",
        "print(my_list)\n",
        "\n",
        "my_list.sort()\n",
        "print(my_list)\n",
        "\n",
        "my_list.reverse()\n",
        "print(my_list)\n",
        "\n",
        "my_list.sort(reverse=True)\n",
        "print(my_list)\n",
        "\n",
        "\n",
        "print(f\"Sum of the list: {list_sum}\")\n",
        "print(f\"Maximum value in the list: {list_max}\")\n",
        "print(f\"Minimum value in the list: {list_min}\")"
      ],
      "metadata": {
        "colab": {
          "base_uri": "https://localhost:8080/"
        },
        "id": "arERTjULLK23",
        "outputId": "8e4a2448-38b5-4086-a836-e9f8aa548da3"
      },
      "execution_count": 8,
      "outputs": [
        {
          "output_type": "stream",
          "name": "stdout",
          "text": [
            "[1, 2, 3, 4, 5, 6, 7, 8, 9, 10]\n",
            "[1, 2, 3, 4, 5, 6, 7, 8, 9, 10, 11]\n",
            "[1, 2, 3, 4, 5, 6, 7, 8, 9, 10]\n",
            "[1, 2, 3, 4, 5, 6, 7, 8, 9, 10]\n",
            "[10, 9, 8, 7, 6, 5, 4, 3, 2, 1]\n",
            "[10, 9, 8, 7, 6, 5, 4, 3, 2, 1]\n",
            "Sum of the list: 55\n",
            "Maximum value in the list: 10\n",
            "Minimum value in the list: 1\n"
          ]
        }
      ]
    },
    {
      "cell_type": "markdown",
      "source": [
        "# Tuple"
      ],
      "metadata": {
        "id": "Pa6CaAoKEikd"
      }
    },
    {
      "cell_type": "code",
      "source": [
        "fruit_tuple = (\"apple\", \"banana\", \"cherry\", \"date\", \"Strawberry\")\n",
        "print(fruit_tuple)\n",
        "\n",
        "print(f\"Second element: {fruit_tuple[1]}\")\n",
        "print(f\"Last element: {fruit_tuple[-1]}\")\n",
        "\n",
        "my_list = list(fruit_tuple)\n",
        "my_list[2]='orange'\n",
        "print(f\"Modified list: {my_list}\")\n",
        "fruit_tuple = tuple(my_list)\n",
        "print(f\"Modified tuple: {fruit_tuple}\")"
      ],
      "metadata": {
        "colab": {
          "base_uri": "https://localhost:8080/"
        },
        "id": "klfSIyf9NCem",
        "outputId": "12274790-f93c-470b-95eb-8e1a15b6cfe3"
      },
      "execution_count": 25,
      "outputs": [
        {
          "output_type": "stream",
          "name": "stdout",
          "text": [
            "('apple', 'banana', 'cherry', 'date', 'Strawberry')\n",
            "Second element: banana\n",
            "Last element: Strawberry\n",
            "Modified list: ['apple', 'banana', 'orange', 'date', 'Strawberry']\n",
            "Modified tuple: ('apple', 'banana', 'orange', 'date', 'Strawberry')\n"
          ]
        }
      ]
    },
    {
      "cell_type": "markdown",
      "source": [
        "# Set"
      ],
      "metadata": {
        "id": "Un5M3kihE4LF"
      }
    },
    {
      "cell_type": "code",
      "source": [
        "set1 = {1, 2, 3, 4, 5}\n",
        "set2 = {4, 5, 6, 7, 8}\n",
        "\n",
        "print(\"Set 1:\", set1)\n",
        "print(\"Set 2:\", set2)\n",
        "\n",
        "union_set = set1.union(set2)\n",
        "print(\"Union of Set 1 and Set 2:\", union_set)\n",
        "\n",
        "intersection_set = set1.intersection(set2)\n",
        "print(\"Intersection of Set 1 and Set 2:\", intersection_set)\n",
        "\n",
        "difference_set = set1.difference(set2)\n",
        "print(\"Difference of Set 1 and Set 2:\", difference_set)\n",
        "\n",
        "set1.add(6)\n",
        "print(\"Set 1 after adding 6:\", set1)\n",
        "\n",
        "set1.remove(3)\n",
        "print(\"Set 1 after removing 3:\", set1)\n"
      ],
      "metadata": {
        "colab": {
          "base_uri": "https://localhost:8080/"
        },
        "id": "oR1q4ZYYWEym",
        "outputId": "6421ccf0-3ef2-4012-c382-62d8319ffa4b"
      },
      "execution_count": 33,
      "outputs": [
        {
          "output_type": "stream",
          "name": "stdout",
          "text": [
            "Set 1: {1, 2, 3, 4, 5}\n",
            "Set 2: {4, 5, 6, 7, 8}\n",
            "Union of Set 1 and Set 2: {1, 2, 3, 4, 5, 6, 7, 8}\n",
            "Intersection of Set 1 and Set 2: {4, 5}\n",
            "Difference of Set 1 and Set 2: {1, 2, 3}\n",
            "Set 1 after adding 6: {1, 2, 3, 4, 5, 6}\n",
            "Set 1 after removing 3: {1, 2, 4, 5, 6}\n"
          ]
        }
      ]
    },
    {
      "cell_type": "markdown",
      "source": [
        "# Dictionary"
      ],
      "metadata": {
        "id": "gteQj0wKE6-V"
      }
    },
    {
      "cell_type": "code",
      "source": [
        "student_marks = {\n",
        "    \"Alice\": 85,\n",
        "    \"Bob\": 92,\n",
        "    \"Charlie\": 78,\n",
        "    \"David\": 95,\n",
        "    \"Eve\": 88,\n",
        "     \"Eve\": 88\n",
        "\n",
        "}\n",
        "\n",
        "print(student_marks)\n",
        "\n",
        "student_marks[\"Bob\"] = 90\n",
        "print(student_marks)\n",
        "\n",
        "del student_marks[\"Charlie\"]\n",
        "print(student_marks)"
      ],
      "metadata": {
        "colab": {
          "base_uri": "https://localhost:8080/"
        },
        "id": "GClicOFiYBaf",
        "outputId": "37ec3b02-4c96-47e4-af0d-7096a8d43d1c"
      },
      "execution_count": 38,
      "outputs": [
        {
          "output_type": "stream",
          "name": "stdout",
          "text": [
            "{'Alice': 85, 'Bob': 92, 'Charlie': 78, 'David': 95, 'Eve': 88}\n",
            "{'Alice': 85, 'Bob': 90, 'Charlie': 78, 'David': 95, 'Eve': 88}\n",
            "{'Alice': 85, 'Bob': 90, 'David': 95, 'Eve': 88}\n"
          ]
        }
      ]
    }
  ]
}